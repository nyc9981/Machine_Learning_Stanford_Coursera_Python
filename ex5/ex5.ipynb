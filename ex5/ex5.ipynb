{
 "cells": [
  {
   "cell_type": "code",
   "execution_count": 1,
   "metadata": {
    "collapsed": true
   },
   "outputs": [],
   "source": [
    "import scipy.io\n",
    "#import matplotlib.pyplot as plt\n",
    "import numpy as np\n",
    "\n",
    "from linearRegCostFunction import linearRegCostFunction\n",
    "from trainLinearReg import trainLinearReg\n",
    "from learningCurve import learningCurve\n",
    "from polyFeatures import polyFeatures\n",
    "from featureNormalize import featureNormalize\n",
    "from plotFit import plotFit\n",
    "from validationCurve import validationCurve\n",
    "\n",
    "#from matplotlib import use\n",
    "#use('TkAgg')\n",
    "\n",
    "import matplotlib.pyplot as plt\n",
    "%matplotlib inline\n",
    "\n",
    "# automatic reload of imported packages \n",
    "%load_ext autoreload\n",
    "%autoreload 2\n",
    "\n",
    "## Machine Learning Online Class\n",
    "#  Exercise 5 | Regularized Linear Regression and Bias-Variance\n",
    "#\n",
    "#  Instructions\n",
    "#  ------------\n",
    "# \n",
    "#  This file contains code that helps you get started on the\n",
    "#  exercise. You will need to complete the following functions:\n",
    "#\n",
    "#     linearRegCostFunction.m\n",
    "#     learningCurve.m\n",
    "#     validationCurve.m\n",
    "#\n",
    "#  For this exercise, you will not need to change any code in this file,\n",
    "#  or any other files other than those mentioned above.\n",
    "#\n"
   ]
  },
  {
   "cell_type": "code",
   "execution_count": 2,
   "metadata": {
    "collapsed": false
   },
   "outputs": [
    {
     "name": "stdout",
     "output_type": "stream",
     "text": [
      "Loading and Visualizing Data ...\n"
     ]
    },
    {
     "data": {
      "text/plain": [
       "<matplotlib.text.Text at 0x10ea3b5d0>"
      ]
     },
     "execution_count": 2,
     "metadata": {},
     "output_type": "execute_result"
    },
    {
     "data": {
      "image/png": "[encoded data removed]",
      "text/plain": [
       "<matplotlib.figure.Figure at 0x103ba3550>"
      ]
     },
     "metadata": {},
     "output_type": "display_data"
    }
   ],
   "source": [
    "## =========== Part 1: Loading and Visualizing Data =============\n",
    "#  We start the exercise by first loading and visualizing the dataset. \n",
    "#  The following code will load the dataset into your environment and plot\n",
    "#  the data.\n",
    "#\n",
    "\n",
    "# Load Training Data\n",
    "print 'Loading and Visualizing Data ...'\n",
    "\n",
    "# Load from ex5data1: \n",
    "# You will have X, y, Xval, yval, Xtest, ytest in your environment\n",
    "data = scipy.io.loadmat('ex5data1.mat')\n",
    "\n",
    "# m = Number of examples\n",
    "X = data['X'][:, 0]\n",
    "y = data['y'][:, 0]\n",
    "Xval = data['Xval'][:, 0]\n",
    "yval = data['yval'][:, 0]\n",
    "Xtest = data['Xtest'][:, 0]\n",
    "\n",
    "m = X.size\n",
    "\n",
    "# Plot training data\n",
    "plt.scatter(X, y, marker='x', s=60, edgecolor='r', lw=1.5)\n",
    "plt.ylabel('Water flowing out of the dam (y)')            # Set the y-axis label\n",
    "plt.xlabel('Change in water level (x)')     # Set the x-axis label\n",
    "\n",
    "#raw_input(\"Program paused. Press Enter to continue...\")\n"
   ]
  },
  {
   "cell_type": "code",
   "execution_count": 3,
   "metadata": {
    "collapsed": false
   },
   "outputs": [
    {
     "name": "stdout",
     "output_type": "stream",
     "text": [
      "Cost at theta = [1  1]: 303.993192 \n",
      "(this value should be about 303.993192)\n",
      "\n"
     ]
    }
   ],
   "source": [
    "## =========== Part 2: Regularized Linear Regression Cost =============\n",
    "#  You should now implement the cost function for regularized linear \n",
    "#  regression. \n",
    "#\n",
    "\n",
    "theta = np.array([1, 1])\n",
    "J = linearRegCostFunction(np.column_stack((np.ones(m), X)), y, theta, 1)[0]\n",
    "\n",
    "print 'Cost at theta = [1  1]: %f \\n(this value should be about 303.993192)\\n' % J\n",
    "\n",
    "#raw_input(\"Program paused. Press Enter to continue...\") \n"
   ]
  },
  {
   "cell_type": "code",
   "execution_count": 4,
   "metadata": {
    "collapsed": false
   },
   "outputs": [
    {
     "name": "stdout",
     "output_type": "stream",
     "text": [
      "Gradient at theta = [1  1]:  [-15.303016 598.250744] \n",
      "(this value should be about [-15.303016 598.250744])\n",
      "\n"
     ]
    }
   ],
   "source": [
    "## =========== Part 3: Regularized Linear Regression Gradient =============\n",
    "#  You should now implement the gradient for regularized linear \n",
    "#  regression.\n",
    "#\n",
    "\n",
    "theta = np.array([1, 1])\n",
    "J, grad = linearRegCostFunction(np.column_stack((np.ones(m), X)), y, theta, 1)\n",
    "\n",
    "print 'Gradient at theta = [1  1]:  [%f %f] \\n(this value should be about [-15.303016 598.250744])\\n' %(grad[0], grad[1])\n",
    "\n",
    "#raw_input(\"Program paused. Press Enter to continue...\") \n"
   ]
  },
  {
   "cell_type": "code",
   "execution_count": 5,
   "metadata": {
    "collapsed": false
   },
   "outputs": [
    {
     "name": "stdout",
     "output_type": "stream",
     "text": [
      "Optimization terminated successfully.\n",
      "         Current function value: 22.379542\n",
      "         Iterations: 3\n",
      "         Function evaluations: 28\n",
      "         Gradient evaluations: 7\n"
     ]
    },
    {
     "data": {
      "text/plain": [
       "[<matplotlib.lines.Line2D at 0x10ea17c10>]"
      ]
     },
     "execution_count": 5,
     "metadata": {},
     "output_type": "execute_result"
    },
    {
     "data": {
      "image/png": "[encoded data removed]",
      "text/plain": [
       "<matplotlib.figure.Figure at 0x10ea17c50>"
      ]
     },
     "metadata": {},
     "output_type": "display_data"
    }
   ],
   "source": [
    "## =========== Part 4: Train Linear Regression =============\n",
    "#  Once you have implemented the cost and gradient correctly, the\n",
    "#  trainLinearReg function will use your cost function to train \n",
    "#  regularized linear regression.\n",
    "# \n",
    "#  Write Up Note: The data is non-linear, so this will not give a great \n",
    "#                 fit.\n",
    "#\n",
    "\n",
    "#  Train linear regression with Lambda = 0\n",
    "Lambda = 0\n",
    "theta = trainLinearReg(np.column_stack((np.ones(m), X)), y, 1)\n",
    "\n",
    "#  Plot fit over the data\n",
    "plt.scatter(X, y, marker='x', s=20, edgecolor='r', lw=1.5)\n",
    "plt.ylabel('Water flowing out of the dam (y)')            # Set the y-axis label\n",
    "plt.xlabel('Change in water level (x)')     # Set the x-axis label\n",
    "plt.plot(X, np.column_stack((np.ones(m), X)).dot(theta), '--', lw=2.0)\n",
    "\n",
    "#raw_input(\"Program paused. Press Enter to continue...\") \n"
   ]
  },
  {
   "cell_type": "code",
   "execution_count": 6,
   "metadata": {
    "collapsed": false
   },
   "outputs": [
    {
     "name": "stdout",
     "output_type": "stream",
     "text": [
      "Optimization terminated successfully.\n",
      "         Current function value: 0.000000\n",
      "         Iterations: 1\n",
      "         Function evaluations: 12\n",
      "         Gradient evaluations: 3\n",
      "Optimization terminated successfully.\n",
      "         Current function value: 0.000000\n",
      "         Iterations: 2\n",
      "         Function evaluations: 24\n",
      "         Gradient evaluations: 6\n",
      "Optimization terminated successfully.\n",
      "         Current function value: 3.286595\n",
      "         Iterations: 9\n",
      "         Function evaluations: 60\n",
      "         Gradient evaluations: 15\n",
      "Optimization terminated successfully.\n",
      "         Current function value: 2.842678\n",
      "         Iterations: 17\n",
      "         Function evaluations: 112\n",
      "         Gradient evaluations: 28\n",
      "Optimization terminated successfully.\n",
      "         Current function value: 13.154049\n",
      "         Iterations: 17\n",
      "         Function evaluations: 112\n",
      "         Gradient evaluations: 28\n",
      "Optimization terminated successfully.\n",
      "         Current function value: 19.443963\n",
      "         Iterations: 17\n",
      "         Function evaluations: 112\n",
      "         Gradient evaluations: 28\n",
      "Warning: Desired error not necessarily achieved due to precision loss.\n",
      "         Current function value: 20.098522\n",
      "         Iterations: 19\n",
      "         Function evaluations: 144\n",
      "         Gradient evaluations: 33\n",
      "Optimization terminated successfully.\n",
      "         Current function value: 18.172859\n",
      "         Iterations: 3\n",
      "         Function evaluations: 28\n",
      "         Gradient evaluations: 7\n",
      "Optimization terminated successfully.\n",
      "         Current function value: 22.609405\n",
      "         Iterations: 3\n",
      "         Function evaluations: 28\n",
      "         Gradient evaluations: 7\n",
      "Optimization terminated successfully.\n",
      "         Current function value: 23.261462\n",
      "         Iterations: 3\n",
      "         Function evaluations: 28\n",
      "         Gradient evaluations: 7\n",
      "Optimization terminated successfully.\n",
      "         Current function value: 24.317250\n",
      "         Iterations: 3\n",
      "         Function evaluations: 28\n",
      "         Gradient evaluations: 7\n",
      "Optimization terminated successfully.\n",
      "         Current function value: 22.373906\n",
      "         Iterations: 3\n",
      "         Function evaluations: 28\n",
      "         Gradient evaluations: 7\n",
      "Training Examples\tTrain Error\tCross Validation Error\n",
      "  \t1\t\t0.000000\t205.121110\n",
      "  \t2\t\t0.000000\t110.300412\n",
      "  \t3\t\t3.286595\t45.010233\n",
      "  \t4\t\t2.842678\t48.368909\n",
      "  \t5\t\t13.154049\t35.865164\n",
      "  \t6\t\t19.443963\t33.829961\n",
      "  \t7\t\t20.098522\t31.970986\n",
      "  \t8\t\t18.172859\t30.862446\n",
      "  \t9\t\t22.609405\t31.135997\n",
      "  \t10\t\t23.261462\t28.936208\n",
      "  \t11\t\t24.317250\t29.551430\n",
      "  \t12\t\t22.373906\t29.433810\n"
     ]
    },
    {
     "data": {
      "image/png": "[encoded data removed]",
      "text/plain": [
       "<matplotlib.figure.Figure at 0x110c28fd0>"
      ]
     },
     "metadata": {},
     "output_type": "display_data"
    }
   ],
   "source": [
    "## =========== Part 5: Learning Curve for Linear Regression =============\n",
    "#  Next, you should implement the learningCurve function. \n",
    "#\n",
    "#  Write Up Note: Since the model is underfitting the data, we expect to\n",
    "#                 see a graph with \"high bias\" -- slide 8 in ML-advice.pdf \n",
    "#\n",
    "\n",
    "Lambda = 0\n",
    "error_train, error_val = learningCurve(np.column_stack((np.ones(m), X)), y,\n",
    "                                       np.column_stack((np.ones(Xval.shape[0]), Xval)), yval, Lambda)\n",
    "plt.figure()\n",
    "plt.plot(range(1, m+1), error_train, color='b', lw=0.5, label='Train')\n",
    "plt.plot(range(1, m+1), error_val, color='r', lw=0.5, label='Cross Validation')\n",
    "plt.title('Learning curve for linear regression')\n",
    "plt.legend()\n",
    "plt.xlabel('Number of training examples')\n",
    "plt.ylabel('Error')\n",
    "\n",
    "plt.xlim(0, 13)\n",
    "plt.ylim(0, 150)\n",
    "plt.legend(loc='upper right', shadow=True, fontsize='x-large', numpoints=1)\n",
    "\n",
    "print 'Training Examples\\tTrain Error\\tCross Validation Error'\n",
    "for i in range(m):\n",
    "    print '  \\t%d\\t\\t%f\\t%f' % (i+1, error_train[i], error_val[i])\n",
    "\n",
    "#raw_input(\"Program paused. Press Enter to continue...\") \n"
   ]
  },
  {
   "cell_type": "code",
   "execution_count": 7,
   "metadata": {
    "collapsed": false
   },
   "outputs": [
    {
     "name": "stdout",
     "output_type": "stream",
     "text": [
      "[ -1.59367581e+01   2.53980260e+02  -4.04762197e+03   6.45059724e+04\n",
      "  -1.02801608e+06   1.63832436e+07  -2.61095791e+08   4.16102047e+09]\n",
      "Normalized Training Example 1:\n",
      "[ 1.         -0.36214078 -0.75508669  0.18222588 -0.70618991  0.30661792\n",
      " -0.59087767  0.3445158  -0.50848117]\n",
      "\n",
      "Program paused. Press enter to continue.\n"
     ]
    }
   ],
   "source": [
    "## =========== Part 6: Feature Mapping for Polynomial Regression =============\n",
    "#  One solution to this is to use polynomial regression. You should now\n",
    "#  complete polyFeatures to map each example into its powers\n",
    "#\n",
    "\n",
    "p = 8\n",
    "\n",
    "# Map X onto Polynomial Features and Normalize\n",
    "X_poly = polyFeatures(X, p)\n",
    "print X_poly[0, :]\n",
    "X_poly, mu, sigma = featureNormalize(X_poly)  # Normalize\n",
    "X_poly = np.column_stack((np.ones(m), X_poly))                   # Add Ones\n",
    "\n",
    "\n",
    "# Map X_poly_test and normalize (using mu and sigma)\n",
    "X_poly_test = polyFeatures(Xtest, p)\n",
    "X_poly_test = X_poly_test - mu\n",
    "X_poly_test = X_poly_test / sigma\n",
    "X_poly_test = np.column_stack((np.ones(X_poly_test.shape[0]), X_poly_test))        # Add Ones\n",
    "\n",
    "# Map X_poly_val and normalize (using mu and sigma)\n",
    "X_poly_val = polyFeatures(Xval, p)\n",
    "X_poly_val = X_poly_val - mu\n",
    "X_poly_val = X_poly_val / sigma\n",
    "X_poly_val = np.column_stack((np.ones(X_poly_test.shape[0]), X_poly_val))           # Add Ones\n",
    "\n",
    "print 'Normalized Training Example 1:'\n",
    "print X_poly[0, :]\n",
    "\n",
    "print '\\nProgram paused. Press enter to continue.'"
   ]
  },
  {
   "cell_type": "code",
   "execution_count": 8,
   "metadata": {
    "collapsed": false
   },
   "outputs": [
    {
     "name": "stdout",
     "output_type": "stream",
     "text": [
      "Warning: Maximum number of iterations has been exceeded.\n",
      "         Current function value: 0.440326\n",
      "         Iterations: 10\n",
      "         Function evaluations: 132\n",
      "         Gradient evaluations: 12\n",
      "Optimization terminated successfully.\n",
      "         Current function value: 0.000000\n",
      "         Iterations: 1\n",
      "         Function evaluations: 33\n",
      "         Gradient evaluations: 3\n",
      "Optimization terminated successfully.\n",
      "         Current function value: 0.000000\n",
      "         Iterations: 2\n",
      "         Function evaluations: 55\n",
      "         Gradient evaluations: 5\n",
      "Optimization terminated successfully.\n",
      "         Current function value: 0.000000\n",
      "         Iterations: 11\n",
      "         Function evaluations: 231\n",
      "         Gradient evaluations: 21\n",
      "Optimization terminated successfully.\n",
      "         Current function value: 0.000000\n",
      "         Iterations: 41\n",
      "         Function evaluations: 946\n",
      "         Gradient evaluations: 86\n",
      "Optimization terminated successfully.\n",
      "         Current function value: 0.000000\n",
      "         Iterations: 77\n",
      "         Function evaluations: 1617\n",
      "         Gradient evaluations: 147\n",
      "Warning: Maximum number of iterations has been exceeded.\n",
      "         Current function value: 0.000001\n",
      "         Iterations: 200\n",
      "         Function evaluations: 3773\n",
      "         Gradient evaluations: 343\n",
      "Warning: Maximum number of iterations has been exceeded.\n",
      "         Current function value: 0.000469\n",
      "         Iterations: 200\n",
      "         Function evaluations: 4202\n",
      "         Gradient evaluations: 382\n",
      "Warning: Maximum number of iterations has been exceeded.\n",
      "         Current function value: 0.039831\n",
      "         Iterations: 200\n",
      "         Function evaluations: 4048\n",
      "         Gradient evaluations: 368\n",
      "Warning: Maximum number of iterations has been exceeded.\n",
      "         Current function value: 0.106183\n",
      "         Iterations: 200\n",
      "         Function evaluations: 3971\n",
      "         Gradient evaluations: 361\n",
      "Warning: Maximum number of iterations has been exceeded.\n",
      "         Current function value: 0.040077\n",
      "         Iterations: 200\n",
      "         Function evaluations: 4290\n",
      "         Gradient evaluations: 390\n",
      "Warning: Desired error not necessarily achieved due to precision loss.\n",
      "         Current function value: 7.033365\n",
      "         Iterations: 2\n",
      "         Function evaluations: 56\n",
      "         Gradient evaluations: 4\n",
      "Warning: Desired error not necessarily achieved due to precision loss.\n",
      "         Current function value: 3.469127\n",
      "         Iterations: 2\n",
      "         Function evaluations: 56\n",
      "         Gradient evaluations: 4\n",
      "Polynomial Regression (Lambda = 0.000000)\n",
      "\n",
      "\n",
      "# Training Examples\tTrain Error\tCross Validation Error\n",
      "  \t0\t\t0.000000\t160.721900\n",
      "  \t1\t\t0.000000\t160.121510\n",
      "  \t2\t\t0.000000\t61.754998\n",
      "  \t3\t\t0.000000\t61.926932\n",
      "  \t4\t\t0.000000\t6.595453\n",
      "  \t5\t\t0.000001\t10.678999\n",
      "  \t6\t\t0.000469\t26.377887\n",
      "  \t7\t\t0.039831\t13.768246\n",
      "  \t8\t\t0.106183\t8.852889\n",
      "  \t9\t\t0.040077\t26.857236\n",
      "  \t10\t\t7.033365\t32.787728\n",
      "  \t11\t\t3.469127\t16.158184\n"
     ]
    },
    {
     "data": {
      "image/png": "[encoded data removed]",
      "text/plain": [
       "<matplotlib.figure.Figure at 0x1121152d0>"
      ]
     },
     "metadata": {},
     "output_type": "display_data"
    }
   ],
   "source": [
    "# =========== Part 7: Learning Curve for Polynomial Regression =============\n",
    "#  Now, you will get to experiment with polynomial regression with multiple\n",
    "#  values of Lambda. The code below runs polynomial regression with \n",
    "#  Lambda = 0. You should try running the code with different values of\n",
    "#  Lambda to see how the fit and learning curve change.\n",
    "#\n",
    "\n",
    "Lambda = 0\n",
    "theta = trainLinearReg(X_poly, y, Lambda, method='BFGS', maxiter=10)\n",
    "\n",
    "# Plot training data and fit\n",
    "plt.figure()\n",
    "plt.scatter(X, y, marker='x', s=10, edgecolor='r', lw=1.5)\n",
    "\n",
    "plotFit(min(X), max(X), mu, sigma, theta, p)\n",
    "\n",
    "plt.xlabel('Change in water level (x)')            # Set the y-axis label\n",
    "plt.ylabel('Water flowing out of the dam (y)')     # Set the x-axis label\n",
    "# plt.plot(X, np.column_stack((np.ones(m), X)).dot(theta), marker='_',  lw=2.0)\n",
    "plt.title('Polynomial Regression Fit (Lambda = %f)' % Lambda)\n",
    "\n",
    "error_train, error_val = learningCurve(X_poly, y, X_poly_val, yval, Lambda)\n",
    "plt.plot(range(m), error_train, label='Train')\n",
    "plt.plot(range(m), error_val, label='Cross Validation')\n",
    "plt.title('Polynomial Regression Learning Curve (Lambda = %f)' % Lambda)\n",
    "plt.xlabel('Number of training examples')\n",
    "plt.ylabel('Error')\n",
    "plt.xlim(0, 13)\n",
    "plt.ylim(0, 150)\n",
    "plt.legend()\n",
    "\n",
    "print 'Polynomial Regression (Lambda = %f)\\n\\n' % Lambda\n",
    "print '# Training Examples\\tTrain Error\\tCross Validation Error'\n",
    "for i in range(m):\n",
    "    print '  \\t%d\\t\\t%f\\t%f' % (i, error_train[i], error_val[i])\n",
    "\n",
    "#raw_input(\"Program paused. Press Enter to continue...\") \n"
   ]
  },
  {
   "cell_type": "code",
   "execution_count": 13,
   "metadata": {
    "collapsed": false
   },
   "outputs": [
    {
     "name": "stdout",
     "output_type": "stream",
     "text": [
      "Warning: Desired error not necessarily achieved due to precision loss.\n",
      "         Current function value: 3.469127\n",
      "         Iterations: 2\n",
      "         Function evaluations: 56\n",
      "         Gradient evaluations: 4\n",
      "Warning: Desired error not necessarily achieved due to precision loss.\n",
      "         Current function value: 3.475266\n",
      "         Iterations: 2\n",
      "         Function evaluations: 56\n",
      "         Gradient evaluations: 4\n",
      "Warning: Desired error not necessarily achieved due to precision loss.\n",
      "         Current function value: 3.487532\n",
      "         Iterations: 2\n",
      "         Function evaluations: 56\n",
      "         Gradient evaluations: 4\n",
      "Warning: Desired error not necessarily achieved due to precision loss.\n",
      "         Current function value: 3.530463\n",
      "         Iterations: 2\n",
      "         Function evaluations: 56\n",
      "         Gradient evaluations: 4\n",
      "Warning: Desired error not necessarily achieved due to precision loss.\n",
      "         Current function value: 3.653000\n",
      "         Iterations: 2\n",
      "         Function evaluations: 56\n",
      "         Gradient evaluations: 4\n",
      "Warning: Desired error not necessarily achieved due to precision loss.\n",
      "         Current function value: 4.080484\n",
      "         Iterations: 2\n",
      "         Function evaluations: 56\n",
      "         Gradient evaluations: 4\n",
      "Warning: Desired error not necessarily achieved due to precision loss.\n",
      "         Current function value: 5.289961\n",
      "         Iterations: 2\n",
      "         Function evaluations: 56\n",
      "         Gradient evaluations: 4\n",
      "Warning: Desired error not necessarily achieved due to precision loss.\n",
      "         Current function value: 9.386967\n",
      "         Iterations: 2\n",
      "         Function evaluations: 56\n",
      "         Gradient evaluations: 4\n",
      "Warning: Desired error not necessarily achieved due to precision loss.\n",
      "         Current function value: 19.995003\n",
      "         Iterations: 2\n",
      "         Function evaluations: 56\n",
      "         Gradient evaluations: 4\n",
      "Warning: Desired error not necessarily achieved due to precision loss.\n",
      "         Current function value: 34.124234\n",
      "         Iterations: 3\n",
      "         Function evaluations: 78\n",
      "         Gradient evaluations: 6\n",
      "Lambda\t\tTrain Error\tValidation Error\n",
      " 0.000000\t3.469127\t16.158184\n",
      " 0.001000\t3.468993\t16.156161\n",
      " 0.003000\t3.468714\t16.152088\n",
      " 0.010000\t3.467758\t16.137873\n",
      " 0.030000\t3.465076\t16.097349\n",
      " 0.100000\t3.456297\t15.956638\n",
      " 0.300000\t3.436317\t15.563999\n",
      " 1.000000\t3.422847\t14.294990\n",
      " 3.000000\t3.798853\t11.470327\n",
      " 10.000000\t19.666553\t12.507965\n"
     ]
    },
    {
     "data": {
      "image/png": "[encoded data removed]",
      "text/plain": [
       "<matplotlib.figure.Figure at 0x112b28b50>"
      ]
     },
     "metadata": {},
     "output_type": "display_data"
    }
   ],
   "source": [
    "## =========== Part 8: Validation for Selecting Lambda =============\n",
    "#  You will now implement validationCurve to test various values of \n",
    "#  Lambda on a validation set. You will then use this to select the\n",
    "#  \"best\" Lambda value.\n",
    "#\n",
    "\n",
    "Lambda_vec, error_train, error_val = validationCurve(X_poly, y, X_poly_val, yval)\n",
    "\n",
    "plt.plot(Lambda_vec, error_train, color='b', lw=0.5, label='Train')\n",
    "plt.plot(Lambda_vec, error_val, color='r', lw=0.5, label='Cross Validation')\n",
    "plt.title('Validation curve for linear regression v.s. Lambda')\n",
    "plt.xscale('log')\n",
    "plt.legend()\n",
    "\n",
    "#plt.plot(Lambda_vec, error_train, Lambda_vec, error_val)\n",
    "#plt.legend('Train', 'Cross Validation')\n",
    "plt.xlabel('Lambda')\n",
    "plt.ylabel('Error')\n",
    "\n",
    "print 'Lambda\\t\\tTrain Error\\tValidation Error'\n",
    "for i in range(Lambda_vec.size):\n",
    "    print ' %f\\t%f\\t%f' % (Lambda_vec[i], error_train[i], error_val[i])\n",
    "\n",
    "#raw_input(\"Program paused. Press Enter to continue...\") "
   ]
  },
  {
   "cell_type": "code",
   "execution_count": 22,
   "metadata": {
    "collapsed": false
   },
   "outputs": [
    {
     "name": "stdout",
     "output_type": "stream",
     "text": [
      "[-15.93675813 -29.15297922  36.18954863  37.49218733 -48.05882945\n",
      "  -8.94145794  15.30779289 -34.70626581   1.38915437 -44.38375985\n",
      "   7.01350208  22.76274892]\n",
      "[  3.00644342   2.39573982  34.95852481  37.97357113   7.56447187\n",
      "   3.86083107  11.19437198   2.68724123   5.92409001   5.20028514\n",
      "   7.60401264  16.24603284]\n",
      "Warning: Desired error not necessarily achieved due to precision loss.\n",
      "         Current function value: 19.995003\n",
      "         Iterations: 2\n",
      "         Function evaluations: 56\n",
      "         Gradient evaluations: 4\n"
     ]
    },
    {
     "data": {
      "text/plain": [
       "[<matplotlib.lines.Line2D at 0x113b11510>]"
      ]
     },
     "execution_count": 22,
     "metadata": {},
     "output_type": "execute_result"
    },
    {
     "data": {
      "image/png": "[encoded data removed]",
      "text/plain": [
       "<matplotlib.figure.Figure at 0x113af13d0>"
      ]
     },
     "metadata": {},
     "output_type": "display_data"
    }
   ],
   "source": [
    "print X\n",
    "#print X_poly\n",
    "print X_poly.dot(theta_best)\n",
    "Lambda_best = 3\n",
    "theta_best = trainLinearReg(X_poly, y, Lambda_best)\n",
    "plt.scatter(X, y, marker='x', s=20, edgecolor='r', lw=1.5)\n",
    "plt.ylabel('Water flowing out of the dam (y)')            # Set the y-axis label\n",
    "plt.xlabel('Change in water level (x)')     # Set the x-axis label\n",
    "plt.plot(X, X_poly.dot(theta_best), '--', lw=2.0)"
   ]
  },
  {
   "cell_type": "code",
   "execution_count": null,
   "metadata": {
    "collapsed": true
   },
   "outputs": [],
   "source": []
  }
 ],
 "metadata": {
  "kernelspec": {
   "display_name": "Python 2",
   "language": "python",
   "name": "python2"
  },
  "language_info": {
   "codemirror_mode": {
    "name": "ipython",
    "version": 2
   },
   "file_extension": ".py",
   "mimetype": "text/x-python",
   "name": "python",
   "nbconvert_exporter": "python",
   "pygments_lexer": "ipython2",
   "version": "2.7.11"
  }
 },
 "nbformat": 4,
 "nbformat_minor": 0
}
