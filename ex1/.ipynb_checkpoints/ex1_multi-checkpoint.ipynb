{
 "cells": [
  {
   "cell_type": "code",
   "execution_count": 1,
   "metadata": {
    "collapsed": false
   },
   "outputs": [],
   "source": [
    "from matplotlib import use, cm\n",
    "use('TkAgg')\n",
    "\n",
    "import matplotlib.pyplot as plt\n",
    "%matplotlib inline\n",
    "%load_ext autoreload\n",
    "%autoreload 2"
   ]
  },
  {
   "cell_type": "code",
   "execution_count": 2,
   "metadata": {
    "collapsed": false
   },
   "outputs": [],
   "source": [
    "from gradientDescentMulti import gradientDescentMulti\n",
    "from normalEqn import normalEqn\n",
    "from featureNormalize import featureNormalize\n",
    "import numpy as np\n",
    "from show import show"
   ]
  },
  {
   "cell_type": "code",
   "execution_count": 3,
   "metadata": {
    "collapsed": false
   },
   "outputs": [
    {
     "name": "stdout",
     "output_type": "stream",
     "text": [
      "Loading data ...\n",
      "First 10 examples from the dataset:\n",
      "[[  2.10400000e+03   3.00000000e+00   3.99900000e+05]\n",
      " [  1.60000000e+03   3.00000000e+00   3.29900000e+05]\n",
      " [  2.40000000e+03   3.00000000e+00   3.69000000e+05]\n",
      " [  1.41600000e+03   2.00000000e+00   2.32000000e+05]\n",
      " [  3.00000000e+03   4.00000000e+00   5.39900000e+05]\n",
      " [  1.98500000e+03   4.00000000e+00   2.99900000e+05]\n",
      " [  1.53400000e+03   3.00000000e+00   3.14900000e+05]\n",
      " [  1.42700000e+03   3.00000000e+00   1.98999000e+05]\n",
      " [  1.38000000e+03   3.00000000e+00   2.12000000e+05]\n",
      " [  1.49400000e+03   3.00000000e+00   2.42500000e+05]]\n",
      "Normalizing Features ...\n",
      "[mu] [sigma]\n",
      "[ 2000.68085106     3.17021277] [  7.86202619e+02   7.52842809e-01]\n",
      "[[  1.00000000e+00   1.31415422e-01  -2.26093368e-01   3.99900000e+05]\n",
      " [  1.00000000e+00  -5.09640698e-01  -2.26093368e-01   3.29900000e+05]\n",
      " [  1.00000000e+00   5.07908699e-01  -2.26093368e-01   3.69000000e+05]\n",
      " [  1.00000000e+00  -7.43677059e-01  -1.55439190e+00   2.32000000e+05]\n",
      " [  1.00000000e+00   1.27107075e+00   1.10220517e+00   5.39900000e+05]\n",
      " [  1.00000000e+00  -1.99450507e-02   1.10220517e+00   2.99900000e+05]\n",
      " [  1.00000000e+00  -5.93588523e-01  -2.26093368e-01   3.14900000e+05]\n",
      " [  1.00000000e+00  -7.29685755e-01  -2.26093368e-01   1.98999000e+05]\n",
      " [  1.00000000e+00  -7.89466782e-01  -2.26093368e-01   2.12000000e+05]\n",
      " [  1.00000000e+00  -6.44465993e-01  -2.26093368e-01   2.42500000e+05]]\n"
     ]
    }
   ],
   "source": [
    "# ================ Part 1: Feature Normalization ================\n",
    "\n",
    "print 'Loading data ...'\n",
    "\n",
    "# Load Data\n",
    "data = np.loadtxt('ex1data2.txt', delimiter=',')\n",
    "X = data[:, :2]\n",
    "y = data[:, 2]\n",
    "m = y.T.size\n",
    "\n",
    "\n",
    "# Print out some data points\n",
    "print 'First 10 examples from the dataset:'\n",
    "print np.column_stack( (X[:10], y[:10]) )\n",
    "# raw_input(\"Program paused. Press Enter to continue...\")\n",
    "\n",
    "# Scale features and set them to zero mean\n",
    "print 'Normalizing Features ...'\n",
    "\n",
    "X, mu, sigma = featureNormalize(X)\n",
    "print '[mu] [sigma]'\n",
    "print mu, sigma\n",
    "\n",
    "# Add intercept term to X\n",
    "X = np.concatenate((np.ones((m, 1)), X), axis=1)\n",
    "print np.column_stack( (X[:10], y[:10]) )"
   ]
  },
  {
   "cell_type": "code",
   "execution_count": 4,
   "metadata": {
    "collapsed": false
   },
   "outputs": [
    {
     "name": "stdout",
     "output_type": "stream",
     "text": [
      "Running gradient descent ...\n"
     ]
    },
    {
     "data": {
      "image/png": "[encoded data removed]",
      "text/plain": [
       "<matplotlib.figure.Figure at 0x103badf90>"
      ]
     },
     "metadata": {},
     "output_type": "display_data"
    }
   ],
   "source": [
    "# ================ Part 2: Gradient Descent ================\n",
    "#\n",
    "# ====================== YOUR CODE HERE ======================\n",
    "# Instructions: We have provided you with the following starter\n",
    "#               code that runs gradient descent with a particular\n",
    "#               learning rate (alpha).\n",
    "#\n",
    "#               Your task is to first make sure that your functions -\n",
    "#               computeCost and gradientDescent already work with\n",
    "#               this starter code and support multiple variables.\n",
    "#\n",
    "#               After that, try running gradient descent with\n",
    "#               different values of alpha and see which one gives\n",
    "#               you the best result.\n",
    "#\n",
    "#               Finally, you should complete the code at the end\n",
    "#               to predict the price of a 1650 sq-ft, 3 br house.\n",
    "#\n",
    "# Hint: By using the 'hold on' command, you can plot multiple\n",
    "#       graphs on the same figure.\n",
    "#\n",
    "# Hint: At prediction, make sure you do the same feature normalization.\n",
    "#\n",
    "\n",
    "print 'Running gradient descent ...'\n",
    "\n",
    "# Choose some alpha value\n",
    "alpha = 0.1\n",
    "num_iters = 400\n",
    "\n",
    "# Init Theta and Run Gradient Descent \n",
    "theta = np.zeros(3)\n",
    "theta, J_history = gradientDescentMulti(X, y, theta, alpha, num_iters)\n",
    "\n",
    "# Plot the convergence graph\n",
    "plt.plot(J_history[:50], '-b')\n",
    "plt.xlabel('Number of iterations')\n",
    "plt.ylabel('Cost J')\n",
    "show()\n",
    "\n"
   ]
  },
  {
   "cell_type": "code",
   "execution_count": 5,
   "metadata": {
    "collapsed": false
   },
   "outputs": [
    {
     "name": "stdout",
     "output_type": "stream",
     "text": [
      "Theta computed from gradient descent: \n",
      "[ 340412.65957447  109447.79558639   -6578.3539709 ]\n",
      "Predicted price of a 1650 sq-ft, 3 br house\n",
      "(using gradient descent): \n",
      "293081.464529\n"
     ]
    }
   ],
   "source": [
    "#raw_input(\"Program paused. Press Enter to continue...\")\n",
    "\n",
    "# Display gradient descent's result\n",
    "print 'Theta computed from gradient descent: '\n",
    "print theta\n",
    "\n",
    "# Estimate the price of a 1650 sq-ft, 3 br house\n",
    "price = np.append([1.], ([1650, 3] - mu) / sigma).dot(theta)\n",
    "\n",
    "print 'Predicted price of a 1650 sq-ft, 3 br house'\n",
    "print '(using gradient descent): '\n",
    "print price\n",
    "\n",
    "#raw_input(\"Program paused. Press Enter to continue...\")"
   ]
  },
  {
   "cell_type": "code",
   "execution_count": 6,
   "metadata": {
    "collapsed": false
   },
   "outputs": [
    {
     "name": "stdout",
     "output_type": "stream",
     "text": [
      "Solving with normal equations...\n",
      "Theta computed from the normal equations:\n",
      " [ 89597.9095428     139.21067402  -8738.01911233] \n",
      "\n"
     ]
    }
   ],
   "source": [
    "# ================ Part 3: Normal Equations ================\n",
    "\n",
    "# ====================== YOUR CODE HERE ======================\n",
    "# Instructions: The following code computes the closed form\n",
    "#               solution for linear regression using the normal\n",
    "#               equations. You should complete the code in\n",
    "#               normalEqn.m\n",
    "#\n",
    "#               After doing so, you should complete this code\n",
    "#               to predict the price of a 1650 sq-ft, 3 br house.\n",
    "#\n",
    "\n",
    "print 'Solving with normal equations...'\n",
    "\n",
    "# Load Data\n",
    "data = np.loadtxt('ex1data2.txt', delimiter=',')\n",
    "X = data[:, :2]\n",
    "y = data[:, 2]\n",
    "m = y.T.size\n",
    "\n",
    "# Add intercept term to X\n",
    "X = np.concatenate((np.ones((m,1)), X), axis=1)\n",
    "\n",
    "# Calculate the parameters from the normal equation\n",
    "theta = normalEqn(X, y)\n",
    "\n",
    "# Display normal equation's result\n",
    "print 'Theta computed from the normal equations:'\n",
    "print ' %s \\n' % theta\n"
   ]
  },
  {
   "cell_type": "code",
   "execution_count": 7,
   "metadata": {
    "collapsed": false
   },
   "outputs": [
    {
     "name": "stdout",
     "output_type": "stream",
     "text": [
      "Predicted price of a 1650 sq-ft, 3 br house \n",
      "(using normal equations):\n",
      " $293081.464335\n",
      "\n"
     ]
    }
   ],
   "source": [
    "\n",
    "# Estimate the price of a 1650 sq-ft, 3 br house\n",
    "price = np.array([1, 1650, 3]).dot(theta)\n",
    "\n",
    "# ============================================================\n",
    "\n",
    "print \"Predicted price of a 1650 sq-ft, 3 br house \"\n",
    "print '(using normal equations):\\n $%f\\n' % price\n",
    "\n",
    "#raw_input(\"Program paused. Press Enter to continue...\")"
   ]
  },
  {
   "cell_type": "code",
   "execution_count": null,
   "metadata": {
    "collapsed": true
   },
   "outputs": [],
   "source": []
  }
 ],
 "metadata": {
  "kernelspec": {
   "display_name": "Python 2",
   "language": "python",
   "name": "python2"
  },
  "language_info": {
   "codemirror_mode": {
    "name": "ipython",
    "version": 2
   },
   "file_extension": ".py",
   "mimetype": "text/x-python",
   "name": "python",
   "nbconvert_exporter": "python",
   "pygments_lexer": "ipython2",
   "version": "2.7.11"
  }
 },
 "nbformat": 4,
 "nbformat_minor": 0
}
