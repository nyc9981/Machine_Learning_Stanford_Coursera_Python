{
 "cells": [
  {
   "cell_type": "code",
   "execution_count": 1,
   "metadata": {
    "collapsed": false
   },
   "outputs": [],
   "source": [
    "## Machine Learning Online Class\n",
    "#  Exercise 6 | Spam Classification with SVMs\n",
    "#\n",
    "#  Instructions\n",
    "#  ------------\n",
    "# \n",
    "#  This file contains code that helps you get started on the\n",
    "#  exercise. You will need to complete the following functions:\n",
    "#\n",
    "#     gaussianKernel.m\n",
    "#     dataset3Params.m\n",
    "#     processEmail.m\n",
    "#     emailFeatures.m\n",
    "#\n",
    "#  For this exercise, you will not need to change any code in this file,\n",
    "#  or any other files other than those mentioned above.\n",
    "#\n",
    "import numpy as np\n",
    "import scipy.io\n",
    "from sklearn import svm\n",
    "from collections import OrderedDict\n",
    "\n",
    "from processEmail import processEmail\n",
    "from emailFeatures import emailFeatures\n",
    "from getVocabList import getVocabList\n",
    "\n",
    "import matplotlib.pyplot as plt\n",
    "%matplotlib inline\n",
    "# automatic reload of imported packages \n",
    "%load_ext autoreload\n",
    "%autoreload 2"
   ]
  },
  {
   "cell_type": "code",
   "execution_count": 2,
   "metadata": {
    "collapsed": false
   },
   "outputs": [
    {
     "name": "stdout",
     "output_type": "stream",
     "text": [
      "Preprocessing sample email (emailSample1.txt)\n",
      "==== Processed Email ====\n",
      "\n",
      "anyon know how much it cost to host a web portal well it depend on how mani visitor\n",
      "your expect thi can be anywher from less than number buck a month to a coupl of\n",
      "dollar number you should checkout httpaddr or perhap amazon ecnumb if your run\n",
      "someth big to unsubscrib yourself from thi mail list send an email to emailaddr\n",
      "\n",
      "=========================\n",
      "Word Indices: \n",
      "[85, 915, 793, 1076, 882, 369, 1698, 789, 1821, 1830, 882, 430, 1170, 793, 1001, 1894, 591, 1675, 237, 161, 88, 687, 944, 1662, 1119, 1061, 1698, 374, 1161, 476, 1119, 1892, 1509, 798, 1181, 1236, 809, 1894, 1439, 1546, 180, 1698, 1757, 1895, 687, 1675, 991, 960, 1476, 70, 529, 1698, 530]\n"
     ]
    }
   ],
   "source": [
    "## ==================== Part 1: Email Preprocessing ====================\n",
    "#  To use an SVM to classify emails into Spam v.s. Non-Spam, you first need\n",
    "#  to convert each email into a vector of features. In this part, you will\n",
    "#  implement the preprocessing steps for each email. You should\n",
    "#  complete the code in processEmail.m to produce a word indices vector\n",
    "#  for a given email.\n",
    "\n",
    "print 'Preprocessing sample email (emailSample1.txt)'\n",
    "\n",
    "# Extract Features\n",
    "file = open('emailSample1.txt', 'r')\n",
    "file_contents = file.readlines()\n",
    "word_indices  = processEmail(''.join(file_contents))\n",
    "\n",
    "# Print Stats\n",
    "print 'Word Indices: '\n",
    "print word_indices\n",
    "\n",
    "#raw_input(\"Program paused. Press Enter to continue...\")\n"
   ]
  },
  {
   "cell_type": "code",
   "execution_count": 3,
   "metadata": {
    "collapsed": false
   },
   "outputs": [
    {
     "name": "stdout",
     "output_type": "stream",
     "text": [
      "Extracting features from sample email (emailSample1.txt)\n",
      "==== Processed Email ====\n",
      "\n",
      "anyon know how much it cost to host a web portal well it depend on how mani visitor\n",
      "your expect thi can be anywher from less than number buck a month to a coupl of\n",
      "dollar number you should checkout httpaddr or perhap amazon ecnumb if your run\n",
      "someth big to unsubscrib yourself from thi mail list send an email to emailaddr\n",
      "\n",
      "=========================\n",
      "Length of feature vector: 1899\n",
      "Number of non-zero entries: 44\n"
     ]
    }
   ],
   "source": [
    "## ==================== Part 2: Feature Extraction ====================\n",
    "#  Now, you will convert each email into a vector of features in R^n.\n",
    "#  You should complete the code in emailFeatures.m to produce a feature\n",
    "#  vector for a given email.\n",
    "\n",
    "print 'Extracting features from sample email (emailSample1.txt)'\n",
    "\n",
    "# Extract Features\n",
    "file = open('emailSample1.txt')\n",
    "file_contents = file.readlines()\n",
    "# Close opened file\n",
    "file.close()\n",
    "word_indices = processEmail(''.join(file_contents))\n",
    "features = emailFeatures(word_indices)\n",
    "\n",
    "# Print Stats\n",
    "print 'Length of feature vector: %d'% features.size\n",
    "print 'Number of non-zero entries: %d'% sum(features > 0)\n",
    "\n",
    "#raw_input(\"Program paused. Press Enter to continue...\")"
   ]
  },
  {
   "cell_type": "code",
   "execution_count": 4,
   "metadata": {
    "collapsed": false
   },
   "outputs": [
    {
     "name": "stdout",
     "output_type": "stream",
     "text": [
      "[[0 0 0 ..., 0 0 0]\n",
      " [0 0 0 ..., 0 0 0]\n",
      " [0 0 0 ..., 0 0 0]\n",
      " ..., \n",
      " [0 0 0 ..., 0 0 0]\n",
      " [0 0 0 ..., 0 0 0]\n",
      " [0 0 0 ..., 0 0 0]]\n",
      "[1 1 0 0 0 0 1 0 0 0]\n",
      "Training Linear SVM (Spam Classification)\n",
      "(this may take 1 to 2 minutes) ...\n"
     ]
    },
    {
     "name": "stderr",
     "output_type": "stream",
     "text": [
      "/Users/Xin/anaconda/lib/python2.7/site-packages/sklearn/svm/base.py:224: ConvergenceWarning: Solver terminated early (max_iter=200).  Consider pre-processing your data with StandardScaler or MinMaxScaler.\n",
      "  % self.max_iter, ConvergenceWarning)\n"
     ]
    },
    {
     "name": "stdout",
     "output_type": "stream",
     "text": [
      "Training Accuracy: %f 99.6\n"
     ]
    }
   ],
   "source": [
    "## =========== Part 3: Train Linear SVM for Spam Classification ========\n",
    "#  In this section, you will train a linear classifier to determine if an\n",
    "#  email is Spam or Not-Spam.\n",
    "\n",
    "# Load the Spam Email dataset\n",
    "# You will have X, y in your environment\n",
    "data = scipy.io.loadmat('spamTrain.mat')\n",
    "X = data['X']\n",
    "y = data['y'].flatten()\n",
    "print X[:10]\n",
    "print y[:10]\n",
    "print 'Training Linear SVM (Spam Classification)'\n",
    "print '(this may take 1 to 2 minutes) ...'\n",
    "\n",
    "C = 0.1\n",
    "clf = svm.SVC(C=C, kernel='linear', tol=1e-3, max_iter=200)\n",
    "model = clf.fit(X, y)\n",
    "\n",
    "p = model.predict(X)\n",
    "\n",
    "print 'Training Accuracy: %f', np.mean(np.double(p == y)) * 100"
   ]
  },
  {
   "cell_type": "code",
   "execution_count": 5,
   "metadata": {
    "collapsed": false
   },
   "outputs": [
    {
     "name": "stdout",
     "output_type": "stream",
     "text": [
      "Evaluating the trained Linear SVM on a test set ...\n",
      "Test Accuracy: %f 57.488\n"
     ]
    }
   ],
   "source": [
    "## =================== Part 4: Test Spam Classification ================\n",
    "#  After training the classifier, we can evaluate it on a test set. We have\n",
    "#  included a test set in spamTest.mat\n",
    "\n",
    "# Load the test dataset\n",
    "# You will have Xtest, ytest in your environment\n",
    "data = scipy.io.loadmat('spamTest.mat')\n",
    "Xtest = data['Xtest']\n",
    "ytest = data['ytest']\n",
    "\n",
    "print 'Evaluating the trained Linear SVM on a test set ...'\n",
    "\n",
    "p = model.predict(Xtest)\n",
    "\n",
    "print 'Test Accuracy: %f', np. mean(np.double(p == ytest)) * 100\n"
   ]
  },
  {
   "cell_type": "code",
   "execution_count": 6,
   "metadata": {
    "collapsed": false
   },
   "outputs": [
    {
     "name": "stdout",
     "output_type": "stream",
     "text": [
      "[ 0.          0.01964196  0.0383815  ..., -0.07011227  0.01694908\n",
      "  0.04809917]\n",
      "Top predictors of spam: \n",
      " our             (0.391337)\n",
      " click           (0.379293)\n",
      " remov           (0.365469)\n",
      " visit           (0.335558)\n",
      " guarante        (0.327508)\n",
      " basenumb        (0.292663)\n",
      " dollar          (0.258750)\n",
      " bodi            (0.233422)\n",
      " ga              (0.222452)\n",
      " below           (0.212933)\n",
      " price           (0.209824)\n",
      " most            (0.201052)\n",
      " will            (0.199862)\n",
      " al              (0.198814)\n",
      " am              (0.189730)\n",
      "Program paused. Press enter to continue.\n"
     ]
    }
   ],
   "source": [
    "## ================= Part 5: Top Predictors of Spam ====================\n",
    "#  Since the model we are training is a linear SVM, we can inspect the\n",
    "#  weights learned by the model to understand better how it is determining\n",
    "#  whether an email is spam or not. The following code finds the words with\n",
    "#  the highest weights in the classifier. Informally, the classifier\n",
    "#  'thinks' that these words are the most likely indicators of spam.\n",
    "#\n",
    "\n",
    "# Sort the weights and obtain the vocabulary list\n",
    "print model.coef_[0]\n",
    "t = sorted(list(enumerate(model.coef_[0])),key=lambda e: e[1], reverse=True)\n",
    "d = OrderedDict(t)\n",
    "idx = d.keys()\n",
    "weight = d.values()\n",
    "vocabList = getVocabList()\n",
    "\n",
    "print 'Top predictors of spam: '\n",
    "for i in range(15):\n",
    "    print ' %-15s (%f)' %(vocabList[idx[i]], weight[i])\n",
    "\n",
    "print 'Program paused. Press enter to continue.'"
   ]
  },
  {
   "cell_type": "code",
   "execution_count": 7,
   "metadata": {
    "collapsed": false
   },
   "outputs": [
    {
     "name": "stdout",
     "output_type": "stream",
     "text": [
      "==== Processed Email ====\n",
      "\n",
      "do you want to make dollar number or more per week if you ar a motiv and qualifi\n",
      "individu i will person demonstr to you a system that will make you dollar number\n",
      "number per week or more thi is not mlm call our number hour prerecord number to\n",
      "get the detail number number number i need peopl who want to make seriou monei\n",
      "make the call and get the fact invest number minut in yourself now number number\n",
      "number look forward to your call and i will introduc you to peopl like yourself\n",
      "who ar current make dollar number number plu per week number number number number\n",
      "ljgvnumber number leannumb lrmsnumber number wxhonumb qiytnumb number rjuvnumb\n",
      "hqcfnumber number eidbnumb dmtvlnumber \n",
      "=========================\n",
      "Processed spamSample1.txt\n",
      "\n",
      "Spam Classification: 1\n",
      "(1 indicates spam, 0 indicates not spam)\n",
      "\n",
      "==== Processed Email ====\n",
      "\n",
      "best bui viagra gener onlin viagra number mg x number pill dollar number free pill\n",
      "reorder discount top sell number qualiti satisfact guarante we accept visa master\n",
      "echeck payment number satisfi custom httpaddr \n",
      "=========================\n",
      "Processed spamSample2.txt\n",
      "\n",
      "Spam Classification: 1\n",
      "(1 indicates spam, 0 indicates not spam)\n",
      "\n",
      "==== Processed Email ====\n",
      "\n",
      "anyon know how much it cost to host a web portal well it depend on how mani visitor\n",
      "your expect thi can be anywher from less than number buck a month to a coupl of\n",
      "dollar number you should checkout httpaddr or perhap amazon ecnumb if your run\n",
      "someth big to unsubscrib yourself from thi mail list send an email to emailaddr\n",
      "\n",
      "=========================\n",
      "Processed emailSample1.txt\n",
      "\n",
      "Spam Classification: 1\n",
      "(1 indicates spam, 0 indicates not spam)\n",
      "\n",
      "==== Processed Email ====\n",
      "\n",
      "folk my first time post have a bit of unix experi but am new to linux just got\n",
      "a new pc at home dell box with window xp ad a second hard disk for linux partit\n",
      "the disk and have instal suse number number from cd which went fine except it didnt\n",
      "pick up my monitor i have a dell brand enumb fpp number lcd flat panel monitor\n",
      "and a nvidia geforcenumb tinumb video card both of which ar probabl too new to\n",
      "featur in suse default set i download a driver from the nvidia websit and instal\n",
      "it us rpm then i ran saxnumb as wa recommend in some post i found on the net but\n",
      "it still doesnt featur my video card in the avail list what next anoth problem\n",
      "i have a dell brand keyboard and if i hit capslock twice the whole machin crash\n",
      "in linux not window even the onoff switch is inact leav me to reach for the power\n",
      "cabl instead if anyon can help me in ani wai with these prob id be realli grate\n",
      "iv search the net but have run out of idea or should i be go for a differ version\n",
      "of linux such as redhat opinion welcom thank a lot peter irish linux user group\n",
      "emailaddr httpaddr for unsubscript inform list maintain emailaddr \n",
      "=========================\n",
      "Processed emailSample2.txt\n",
      "\n",
      "Spam Classification: 0\n",
      "(1 indicates spam, 0 indicates not spam)\n",
      "\n"
     ]
    }
   ],
   "source": [
    "## =================== Part 6: Try Your Own Emails =====================\n",
    "#  Now that you've trained the spam classifier, you can use it on your own\n",
    "#  emails! In the starter code, we have included spamSample1.txt,\n",
    "#  spamSample2.txt, emailSample1.txt and emailSample2.txt as examples.\n",
    "#  The following code reads in one of these emails and then uses your\n",
    "#  learned SVM classifier to determine whether the email is Spam or\n",
    "#  Not Spam\n",
    "\n",
    "# Set the file to be read in (change this to spamSample2.txt,\n",
    "# emailSample1.txt or emailSample2.txt to see different predictions on\n",
    "# different emails types). Try your own emails as well!\n",
    "filenames = ['spamSample1.txt', 'spamSample2.txt', 'emailSample1.txt', 'emailSample2.txt']\n",
    "\n",
    "# Read and predict\n",
    "\n",
    "for filename in filenames:\n",
    "    file = open(filename)\n",
    "    file_contents = file.readlines()\n",
    "    file.close()\n",
    "    word_indices = processEmail(''.join(file_contents))\n",
    "    x = emailFeatures(word_indices)\n",
    "    p = model.predict(x.reshape(1, -1))\n",
    "\n",
    "    print 'Processed %s\\n\\nSpam Classification: %d' % (filename, p)\n",
    "    print '(1 indicates spam, 0 indicates not spam)\\n'\n"
   ]
  },
  {
   "cell_type": "code",
   "execution_count": null,
   "metadata": {
    "collapsed": true
   },
   "outputs": [],
   "source": []
  }
 ],
 "metadata": {
  "kernelspec": {
   "display_name": "Python 2",
   "language": "python",
   "name": "python2"
  },
  "language_info": {
   "codemirror_mode": {
    "name": "ipython",
    "version": 2
   },
   "file_extension": ".py",
   "mimetype": "text/x-python",
   "name": "python",
   "nbconvert_exporter": "python",
   "pygments_lexer": "ipython2",
   "version": "2.7.11"
  }
 },
 "nbformat": 4,
 "nbformat_minor": 0
}
